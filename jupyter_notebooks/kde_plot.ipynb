{
 "cells": [
  {
   "cell_type": "code",
   "execution_count": null,
   "id": "6a44e8a8-1d57-4440-ab17-b4b183486b27",
   "metadata": {},
   "outputs": [],
   "source": [
    "import matplotlib.pyplot as plt\n",
    "import numpy as np\n",
    "from clusters.ammonia import Ammonia\n",
    "from systems_vde import systems\n",
    "import seaborn as sns\n",
    "\n",
    "\n",
    "\n",
    "frames, electron, neutral = np.loadtxt(systems[21].mp2, delimiter=',', unpack=True)\n",
    "\n",
    "VDE = []\n",
    "for index, frame in enumerate(frames):\n",
    "    VDE.append((electron[index] - neutral[index]) * 27.211324570273)\n",
    "\n",
    "sns.set(style=\"whitegrid\")\n",
    "plt.figure(figsize=(10, 10))\n",
    "\n",
    "sns.kdeplot(data=VDE, fill=True, lw=10)\n",
    "\n",
    "plt.show()"
   ]
  }
 ],
 "metadata": {
  "kernelspec": {
   "display_name": "Python 3 (ipykernel)",
   "language": "python",
   "name": "python3"
  },
  "language_info": {
   "codemirror_mode": {
    "name": "ipython",
    "version": 3
   },
   "file_extension": ".py",
   "mimetype": "text/x-python",
   "name": "python",
   "nbconvert_exporter": "python",
   "pygments_lexer": "ipython3",
   "version": "3.9.18"
  }
 },
 "nbformat": 4,
 "nbformat_minor": 5
}
