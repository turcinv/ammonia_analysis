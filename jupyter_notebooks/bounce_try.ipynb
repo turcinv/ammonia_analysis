{
 "cells": [
  {
   "cell_type": "code",
   "execution_count": 10,
   "id": "initial_id",
   "metadata": {
    "collapsed": true,
    "ExecuteTime": {
     "end_time": "2023-11-29T12:32:03.592400200Z",
     "start_time": "2023-11-29T12:32:03.512711400Z"
    }
   },
   "outputs": [],
   "source": [
    "from analysis.svk_data.systems import systems\n",
    "from analysis.traj_to_pickle import load_pickle_traj\n",
    "import mdtraj as md"
   ]
  },
  {
   "cell_type": "code",
   "execution_count": 11,
   "outputs": [],
   "source": [
    "min_box = 0\n",
    "max_box = 20"
   ],
   "metadata": {
    "collapsed": false,
    "ExecuteTime": {
     "end_time": "2023-11-29T12:32:04.706138200Z",
     "start_time": "2023-11-29T12:32:04.652904800Z"
    }
   },
   "id": "13ae1071404d4727"
  },
  {
   "cell_type": "code",
   "execution_count": 21,
   "outputs": [],
   "source": [
    "system = 361\n",
    "\n",
    "data = load_pickle_traj(f'{systems[system].path}')\n",
    "traj = data['traj']\n",
    "topology = data['topology']\n",
    "ns = traj.top.select('name N or name H')\n",
    "\n",
    "x = traj.xyz[:,ns,0]\n",
    "y = traj.xyz[:,ns,1]\n",
    "z = traj.xyz[:,ns,2]\n",
    "\n",
    "xyz = [x, y, z]\n",
    "\n",
    "xyz_indexes = {\n",
    "  0: \"x\",\n",
    "  1: \"y\",\n",
    "  2: \"z\",\n",
    "}\n",
    "\n",
    "for i, coord in enumerate(xyz):\n",
    "    for index, dist in enumerate(coord):\n",
    "        max_dist = max(dist)\n",
    "        min_dist = min(dist)\n",
    "        if max_dist >= 2.49:\n",
    "            print(f\"Odraz 25 A: Snímek {index}, Osa {xyz_indexes[i]}\")\n",
    "        elif min_dist <= 0:\n",
    "            print(f\"Odraz 0 A: Snímek {index}, Osa {xyz_indexes[i]}\")\n",
    "        else:\n",
    "            pass"
   ],
   "metadata": {
    "collapsed": false,
    "ExecuteTime": {
     "end_time": "2023-11-29T12:34:10.824295400Z",
     "start_time": "2023-11-29T12:34:09.276864100Z"
    }
   },
   "id": "fb47f66a5cb1483d"
  },
  {
   "cell_type": "code",
   "execution_count": null,
   "outputs": [],
   "source": [
    "# xyz_indexes = {0:\"x\",\n",
    "#                1:\"y\",\n",
    "#                2:\"z\",}\n",
    "# \n",
    "# x_max = []\n",
    "# y_max = []\n",
    "# z_max = []\n",
    "# \n",
    "# maximums = {0:x_max,\n",
    "#             1:y_max,\n",
    "#             2:z_max}\n",
    "# \n",
    "# x_min = []\n",
    "# y_min = []\n",
    "# z_min = []\n",
    "# \n",
    "# minimums = {0:x_min,\n",
    "#             1:y_min,\n",
    "#             2:z_min}\n",
    "# \n",
    "# for i, coord in enumerate(xyz):\n",
    "#   for index, dist in enumerate(coord):\n",
    "#     max_dist = max(dist)\n",
    "#     min_dist = min(dist)\n",
    "#     maximums[i].append(max_dist)\n",
    "#     minimums[i].append(min_dist)"
   ],
   "metadata": {
    "collapsed": false,
    "ExecuteTime": {
     "start_time": "2023-11-29T12:26:54.756776Z"
    }
   },
   "id": "72931315aec37a94"
  },
  {
   "cell_type": "code",
   "execution_count": null,
   "outputs": [],
   "source": [
    "# print(max(z_max))"
   ],
   "metadata": {
    "collapsed": false,
    "ExecuteTime": {
     "start_time": "2023-11-29T12:26:54.756776Z"
    }
   },
   "id": "c44a05046110b70d"
  },
  {
   "cell_type": "code",
   "execution_count": null,
   "outputs": [],
   "source": [],
   "metadata": {
    "collapsed": false,
    "ExecuteTime": {
     "start_time": "2023-11-29T12:26:54.764323200Z"
    }
   },
   "id": "73a0993526f3bf4f"
  },
  {
   "cell_type": "markdown",
   "source": [],
   "metadata": {
    "collapsed": false
   },
   "id": "c7756df72f3af193"
  },
  {
   "cell_type": "code",
   "execution_count": null,
   "outputs": [],
   "source": [
    "# max_dist_x = []\n",
    "# for i in x:\n",
    "#   max_dist_x.append(max(i))\n",
    "# print(max(max_dist_x))\n",
    "# \n",
    "# max_dist_y = []\n",
    "# for i in y:\n",
    "#   max_dist_y.append(max(i))\n",
    "# print(max(max_dist_y))\n",
    "# \n",
    "# max_dist_z = []\n",
    "# for i in z:\n",
    "#   max_dist_z.append(max(i))\n",
    "# print(max(max_dist_z))"
   ],
   "metadata": {
    "collapsed": false,
    "ExecuteTime": {
     "start_time": "2023-11-29T12:26:54.769332800Z"
    }
   },
   "id": "db1fff4d008e48f4"
  },
  {
   "cell_type": "code",
   "execution_count": null,
   "outputs": [],
   "source": [
    "# min_dist_x = []\n",
    "# for i in x:\n",
    "#   min_dist_x.append(min(i))\n",
    "# print(min(min_dist_x))\n",
    "# \n",
    "# min_dist_y = []\n",
    "# for i in y:\n",
    "#   min_dist_y.append(min(i))\n",
    "# print(min(min_dist_y))\n",
    "# \n",
    "# min_dist_z = []\n",
    "# for i in z:\n",
    "#   min_dist_z.append(min(i))\n",
    "# print(min(min_dist_z))"
   ],
   "metadata": {
    "collapsed": false,
    "ExecuteTime": {
     "start_time": "2023-11-29T12:26:54.769332800Z"
    }
   },
   "id": "764845b00a7d6ba5"
  },
  {
   "cell_type": "code",
   "execution_count": null,
   "outputs": [],
   "source": [
    "# for index, y_dist in enumerate(y):\n",
    "#   max_dist = max(y_dist)\n",
    "#   min_dist = min(y_dist)\n",
    "#   if max_dist > 2:\n",
    "#     print(f\"Odraz snimek {index}\")\n",
    "#   elif min_dist < 0:\n",
    "#     print(f\"Odraz snimek {index}\")\n",
    "#   else:\n",
    "#     pass"
   ],
   "metadata": {
    "collapsed": false,
    "ExecuteTime": {
     "start_time": "2023-11-29T12:26:54.774385400Z"
    }
   },
   "id": "1776180eeb85e279"
  },
  {
   "cell_type": "code",
   "execution_count": null,
   "outputs": [],
   "source": [
    "for index, y_dist in enumerate(y):\n",
    "  max_dist = max(y_dist)\n",
    "  min_dist = min(y_dist)\n",
    "  if max_dist > 2:\n",
    "    print(f\"Odraz snimek {index}\")\n",
    "  elif min_dist < 0:\n",
    "    print(f\"Odraz snimek {index}\")\n",
    "  else:\n",
    "    pass"
   ],
   "metadata": {
    "collapsed": false,
    "ExecuteTime": {
     "start_time": "2023-11-29T12:26:54.774385400Z"
    }
   },
   "id": "ca3ee5eb41ebb62b"
  }
 ],
 "metadata": {
  "kernelspec": {
   "display_name": "Python 3",
   "language": "python",
   "name": "python3"
  },
  "language_info": {
   "codemirror_mode": {
    "name": "ipython",
    "version": 2
   },
   "file_extension": ".py",
   "mimetype": "text/x-python",
   "name": "python",
   "nbconvert_exporter": "python",
   "pygments_lexer": "ipython2",
   "version": "2.7.6"
  }
 },
 "nbformat": 4,
 "nbformat_minor": 5
}
